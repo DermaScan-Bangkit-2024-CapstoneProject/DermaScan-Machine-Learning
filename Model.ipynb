{
  "nbformat": 4,
  "nbformat_minor": 0,
  "metadata": {
    "colab": {
      "provenance": [],
      "authorship_tag": "ABX9TyPXcQXgUVgKMp7GTzdQcGvS"
    },
    "kernelspec": {
      "name": "python3",
      "display_name": "Python 3"
    },
    "language_info": {
      "name": "python"
    }
  },
  "cells": [
    {
      "cell_type": "markdown",
      "source": [
        "# Define the model"
      ],
      "metadata": {
        "id": "B2BE0cgokePI"
      }
    },
    {
      "cell_type": "code",
      "execution_count": null,
      "metadata": {
        "id": "kyzyrXxwj0Cr"
      },
      "outputs": [],
      "source": [
        "# Model definition for multi-class classification (22 classes)\n",
        "model = tf.keras.Sequential([\n",
        "    tf.keras.layers.Rescaling(1./255, input_shape=(150, 150, 3)),\n",
        "    tf.keras.layers.Conv2D(32, 3, activation='relu'),\n",
        "    tf.keras.layers.MaxPooling2D(),\n",
        "    tf.keras.layers.Conv2D(64, 3, activation='relu'),\n",
        "    tf.keras.layers.MaxPooling2D(),\n",
        "    tf.keras.layers.Conv2D(128, 3, activation='relu'),\n",
        "    tf.keras.layers.MaxPooling2D(),\n",
        "    tf.keras.layers.Flatten(),\n",
        "    tf.keras.layers.Dense(128, activation='relu'),\n",
        "    tf.keras.layers.Dense(22, activation='softmax')  # 22 classes, softmax activation\n",
        "])\n",
        "\n",
        "# Compile the model\n",
        "model.compile(optimizer='adam',\n",
        "              loss='sparse_categorical_crossentropy',  # For multi-class classification\n",
        "              metrics=['accuracy'])\n",
        "\n",
        "# Train the model\n",
        "model.fit(train_dataset, validation_data=val_dataset, epochs=10)"
      ]
    },
    {
      "cell_type": "markdown",
      "source": [
        "# Define Function to predict the skin"
      ],
      "metadata": {
        "id": "USk-1RFJl9_P"
      }
    },
    {
      "cell_type": "code",
      "source": [
        "# Function to predict the skin disease type\n",
        "def predict_skin_disease(img_path):\n",
        "    img = image.load_img(img_path, target_size=(150, 150))\n",
        "    img_array = image.img_to_array(img) / 255.0  # Normalize the image\n",
        "    img_array = np.expand_dims(img_array, axis=0)  # Add batch dimension\n",
        "\n",
        "    # Predict the class\n",
        "    predictions = model.predict(img_array)\n",
        "    predicted_class = np.argmax(predictions, axis=1)[0]\n",
        "\n",
        "    # Map the predicted class index to the disease class\n",
        "    class_names = train_dataset.class_names  # Get the disease class names\n",
        "    predicted_class_name = class_names[predicted_class]\n",
        "\n",
        "    # Check if the prediction is healthy (class not found in any disease category)\n",
        "    confidence = np.max(predictions)  # Max confidence value\n",
        "    if confidence < 0.5:  # If confidence is low, classify as healthy\n",
        "        return \"Healthy skin\"\n",
        "    else:\n",
        "        return f\"Skin Disease: {predicted_class_name}\"\n",
        "\n",
        "# Example prediction\n",
        "img_path = '/path/to/skin/image.jpg'  # Replace with an actual image path\n",
        "print(predict_skin_disease(img_path))"
      ],
      "metadata": {
        "id": "uUTDi-lPlM5Q"
      },
      "execution_count": null,
      "outputs": []
    }
  ]
}