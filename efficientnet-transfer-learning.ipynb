{
 "cells": [
  {
   "cell_type": "code",
   "execution_count": null,
   "id": "compound-intensity",
   "metadata": {
    "execution": {
     "iopub.execute_input": "2021-05-29T01:34:25.505719Z",
     "iopub.status.busy": "2021-05-29T01:34:25.504970Z",
     "iopub.status.idle": "2021-05-29T01:34:25.507675Z",
     "shell.execute_reply": "2021-05-29T01:34:25.507256Z",
     "shell.execute_reply.started": "2021-05-29T01:33:09.979778Z"
    },
    "jupyter": {
     "source_hidden": true
    },
    "papermill": {
     "duration": 0.033275,
     "end_time": "2021-05-29T01:34:25.507778",
     "exception": false,
     "start_time": "2021-05-29T01:34:25.474503",
     "status": "completed"
    },
    "tags": []
   },
   "outputs": [],
   "source": [
    "import tensorflow as tf\n",
    "from tensorflow import keras\n",
    "from keras.layers import Dense, Dropout, BatchNormalization\n",
    "from keras.optimizers import Adamax\n",
    "from keras import regularizers\n",
    "from keras.preprocessing.image import ImageDataGenerator\n",
    "import numpy as np\n",
    "import pandas as pd\n",
    "import time\n",
    "import cv2 as cv2\n",
    "from sklearn.model_selection import train_test_split\n",
    "import matplotlib.pyplot as plt\n",
    "import os\n",
    "import seaborn as sns\n",
    "from sklearn.metrics import confusion_matrix, classification_report\n",
    "\n",
    "sns.set_style(\"darkgrid\")"
   ]
  },
  {
   "cell_type": "markdown",
   "id": "common-hunter",
   "metadata": {
    "execution": {
     "iopub.execute_input": "2021-05-24T02:41:06.896292Z",
     "iopub.status.busy": "2021-05-24T02:41:06.895551Z",
     "iopub.status.idle": "2021-05-24T02:41:06.898243Z",
     "shell.execute_reply": "2021-05-24T02:41:06.897841Z",
     "shell.execute_reply.started": "2021-05-24T02:24:22.496614Z"
    },
    "papermill": {
     "duration": 0.02243,
     "end_time": "2021-05-29T01:34:25.553141",
     "exception": false,
     "start_time": "2021-05-29T01:34:25.530711",
     "status": "completed"
    },
    "tags": []
   },
   "source": [
    "### Show an image and get the shape"
   ]
  },
  {
   "cell_type": "code",
   "execution_count": null,
   "id": "medieval-trouble",
   "metadata": {
    "execution": {
     "iopub.execute_input": "2021-05-29T01:34:25.601865Z",
     "iopub.status.busy": "2021-05-29T01:34:25.601380Z",
     "iopub.status.idle": "2021-05-29T01:34:26.037850Z",
     "shell.execute_reply": "2021-05-29T01:34:26.038279Z",
     "shell.execute_reply.started": "2021-05-29T01:33:09.995136Z"
    },
    "papermill": {
     "duration": 0.462679,
     "end_time": "2021-05-29T01:34:26.038424",
     "exception": false,
     "start_time": "2021-05-29T01:34:25.575745",
     "status": "completed"
    },
    "tags": []
   },
   "outputs": [],
   "source": [
    "fpath = r\"./Datasets/ham1000-segmentation-and-classification/images/ISIC_0024306.jpg\"\n",
    "img = plt.imread(fpath)\n",
    "print(img.shape)\n",
    "plt.imshow(img)"
   ]
  },
  {
   "cell_type": "markdown",
   "id": "critical-reason",
   "metadata": {
    "papermill": {
     "duration": 0.026548,
     "end_time": "2021-05-29T01:34:26.092297",
     "exception": false,
     "start_time": "2021-05-29T01:34:26.065749",
     "status": "completed"
    },
    "tags": []
   },
   "source": [
    "### Read the csv file"
   ]
  },
  {
   "cell_type": "code",
   "execution_count": null,
   "id": "guilty-tonight",
   "metadata": {
    "execution": {
     "iopub.execute_input": "2021-05-29T01:34:26.150857Z",
     "iopub.status.busy": "2021-05-29T01:34:26.150378Z",
     "iopub.status.idle": "2021-05-29T01:34:26.188478Z",
     "shell.execute_reply": "2021-05-29T01:34:26.187822Z",
     "shell.execute_reply.started": "2021-05-29T01:33:10.538760Z"
    },
    "papermill": {
     "duration": 0.070044,
     "end_time": "2021-05-29T01:34:26.188632",
     "exception": false,
     "start_time": "2021-05-29T01:34:26.118588",
     "status": "completed"
    },
    "tags": []
   },
   "outputs": [],
   "source": [
    "df = pd.read_csv(r\"./Datasets/ham1000-segmentation-and-classification/GroundTruth.csv\")\n",
    "print(df.head())\n",
    "print(len(df))\n",
    "print(df.columns)\n",
    "labels = [\"MEL\", \"NV\", \"BCC\", \"AKIEC\", \"BKL\", \"DF\", \"VASC\"]"
   ]
  },
  {
   "cell_type": "markdown",
   "id": "strategic-portal",
   "metadata": {
    "papermill": {
     "duration": 0.026351,
     "end_time": "2021-05-29T01:34:26.243269",
     "exception": false,
     "start_time": "2021-05-29T01:34:26.216918",
     "status": "completed"
    },
    "tags": []
   },
   "source": [
    "## The column image does NOT include the extension '.jpg' so to work need to add the extension to the image column"
   ]
  },
  {
   "cell_type": "code",
   "execution_count": null,
   "id": "ultimate-kitty",
   "metadata": {
    "execution": {
     "iopub.execute_input": "2021-05-29T01:34:26.308395Z",
     "iopub.status.busy": "2021-05-29T01:34:26.307809Z",
     "iopub.status.idle": "2021-05-29T01:34:26.311189Z",
     "shell.execute_reply": "2021-05-29T01:34:26.311775Z",
     "shell.execute_reply.started": "2021-05-29T01:33:10.584932Z"
    },
    "papermill": {
     "duration": 0.042134,
     "end_time": "2021-05-29T01:34:26.311951",
     "exception": false,
     "start_time": "2021-05-29T01:34:26.269817",
     "status": "completed"
    },
    "tags": []
   },
   "outputs": [],
   "source": [
    "df[\"image\"] = df[\"image\"].apply(lambda x: x + \".jpg\")\n",
    "print(df.head())"
   ]
  },
  {
   "cell_type": "markdown",
   "id": "characteristic-appeal",
   "metadata": {
    "papermill": {
     "duration": 0.027156,
     "end_time": "2021-05-29T01:34:26.367412",
     "exception": false,
     "start_time": "2021-05-29T01:34:26.340256",
     "status": "completed"
    },
    "tags": []
   },
   "source": [
    "### Add label string column to use instead of one hot encoding"
   ]
  },
  {
   "cell_type": "code",
   "execution_count": null,
   "id": "adverse-revelation",
   "metadata": {
    "execution": {
     "iopub.execute_input": "2021-05-29T01:34:28.211105Z",
     "iopub.status.busy": "2021-05-29T01:34:28.210202Z",
     "iopub.status.idle": "2021-05-29T01:34:28.216623Z",
     "shell.execute_reply": "2021-05-29T01:34:28.216213Z",
     "shell.execute_reply.started": "2021-05-29T01:33:10.603021Z"
    },
    "papermill": {
     "duration": 1.822536,
     "end_time": "2021-05-29T01:34:28.216744",
     "exception": false,
     "start_time": "2021-05-29T01:34:26.394208",
     "status": "completed"
    },
    "tags": []
   },
   "outputs": [],
   "source": [
    "labels = [\"MEL\", \"NV\", \"BCC\", \"AKIEC\", \"BKL\", \"DF\", \"VASC\"]\n",
    "label_list = []\n",
    "for i in range(len(df)):\n",
    "    row = list(df.iloc[i])\n",
    "    del row[0]\n",
    "    index = np.argmax(row)\n",
    "    label = labels[index]\n",
    "    label_list.append(label)\n",
    "df[\"label\"] = label_list\n",
    "df = df.drop(labels, axis=1)\n",
    "print(df.head())"
   ]
  },
  {
   "cell_type": "markdown",
   "id": "pointed-cambridge",
   "metadata": {
    "papermill": {
     "duration": 0.026715,
     "end_time": "2021-05-29T01:34:28.270523",
     "exception": false,
     "start_time": "2021-05-29T01:34:28.243808",
     "status": "completed"
    },
    "tags": []
   },
   "source": [
    "### Split dataframes into train, test and val dataframes"
   ]
  },
  {
   "cell_type": "code",
   "execution_count": null,
   "id": "average-quarterly",
   "metadata": {
    "execution": {
     "iopub.execute_input": "2021-05-29T01:34:28.330672Z",
     "iopub.status.busy": "2021-05-29T01:34:28.330198Z",
     "iopub.status.idle": "2021-05-29T01:34:28.343577Z",
     "shell.execute_reply": "2021-05-29T01:34:28.343181Z",
     "shell.execute_reply.started": "2021-05-29T01:33:12.352775Z"
    },
    "papermill": {
     "duration": 0.04636,
     "end_time": "2021-05-29T01:34:28.343680",
     "exception": false,
     "start_time": "2021-05-29T01:34:28.297320",
     "status": "completed"
    },
    "tags": []
   },
   "outputs": [],
   "source": [
    "train_split = 0.95\n",
    "valid_split = 0.025\n",
    "dummy_split = valid_split / (1 - train_split)\n",
    "\n",
    "train_df, dummy_df = train_test_split(\n",
    "    df, train_size=train_split, shuffle=True, random_state=123\n",
    ")\n",
    "valid_df, test_df = train_test_split(\n",
    "    dummy_df, train_size=dummy_split, shuffle=True, random_state=123\n",
    ")\n",
    "\n",
    "print(\n",
    "    \" train_df length: \",\n",
    "    len(train_df),\n",
    "    \"  test_df length: \",\n",
    "    len(test_df),\n",
    "    \"  valid_df length: \",\n",
    "    len(valid_df),\n",
    ")\n",
    "print(train_df.head())\n",
    "print(train_df[\"label\"].value_counts())"
   ]
  },
  {
   "cell_type": "markdown",
   "id": "promotional-behalf",
   "metadata": {
    "papermill": {
     "duration": 0.027273,
     "end_time": "2021-05-29T01:34:28.398058",
     "exception": false,
     "start_time": "2021-05-29T01:34:28.370785",
     "status": "completed"
    },
    "tags": []
   },
   "source": [
    "### Dataset is not balanceed\n",
    "#### Use 300 samples per class to help balance it"
   ]
  },
  {
   "cell_type": "code",
   "execution_count": null,
   "id": "spread-floating",
   "metadata": {
    "execution": {
     "iopub.execute_input": "2021-05-29T01:34:28.460368Z",
     "iopub.status.busy": "2021-05-29T01:34:28.459416Z",
     "iopub.status.idle": "2021-05-29T01:34:28.479700Z",
     "shell.execute_reply": "2021-05-29T01:34:28.480083Z",
     "shell.execute_reply.started": "2021-05-29T01:33:12.384465Z"
    },
    "papermill": {
     "duration": 0.054639,
     "end_time": "2021-05-29T01:34:28.480212",
     "exception": false,
     "start_time": "2021-05-29T01:34:28.425573",
     "status": "completed"
    },
    "tags": []
   },
   "outputs": [],
   "source": [
    "print(\"original number of classes: \", len(df[\"label\"].unique()))\n",
    "size = 300\n",
    "samples = []\n",
    "group = df.groupby(\"label\")\n",
    "for label in df[\"label\"].unique():\n",
    "    Lgroup = group.get_group(label)\n",
    "    count = int(Lgroup[\"label\"].value_counts())\n",
    "    if count >= size:\n",
    "        sample = Lgroup.sample(size, axis=0)\n",
    "    else:\n",
    "        sample = Lgroup.sample(frac=1, axis=0)\n",
    "    samples.append(sample)\n",
    "train_df = pd.concat(samples, axis=0).reset_index(drop=True)\n",
    "print(len(train_df))\n",
    "print(\"final number of classes: \", len(train_df[\"label\"].unique()))\n",
    "print(train_df[\"label\"].value_counts())"
   ]
  },
  {
   "cell_type": "markdown",
   "id": "blocked-multiple",
   "metadata": {
    "papermill": {
     "duration": 0.027581,
     "end_time": "2021-05-29T01:34:28.535213",
     "exception": false,
     "start_time": "2021-05-29T01:34:28.507632",
     "status": "completed"
    },
    "tags": []
   },
   "source": [
    "### Create train, test, valid  generators"
   ]
  },
  {
   "cell_type": "code",
   "execution_count": null,
   "id": "palestinian-swimming",
   "metadata": {
    "execution": {
     "iopub.execute_input": "2021-05-29T01:34:28.605094Z",
     "iopub.status.busy": "2021-05-29T01:34:28.604584Z",
     "iopub.status.idle": "2021-05-29T01:34:32.323996Z",
     "shell.execute_reply": "2021-05-29T01:34:32.324370Z",
     "shell.execute_reply.started": "2021-05-29T01:33:12.413024Z"
    },
    "papermill": {
     "duration": 3.761694,
     "end_time": "2021-05-29T01:34:32.324517",
     "exception": false,
     "start_time": "2021-05-29T01:34:28.562823",
     "status": "completed"
    },
    "scrolled": true,
    "tags": []
   },
   "outputs": [],
   "source": [
    "sdir = r\"./Datasets/ham1000-segmentation-and-classification/images\"  # main directory where data is stored\n",
    "save_dir = r\"./\"  # output directory where model will be saved\n",
    "subject = \"cancer\"  # part of the name of the saved model\n",
    "height = 224  # image height\n",
    "width = 224  # image width\n",
    "channels = 3  # number of coloor channels\n",
    "batch_size = 40  # model batch size for training and evaluation\n",
    "img_shape = (height, width, channels)\n",
    "img_size = (height, width)\n",
    "\n",
    "length = len(test_df)\n",
    "test_batch_size = sorted(\n",
    "    [\n",
    "        int(length / n)\n",
    "        for n in range(1, length + 1)\n",
    "        if length % n == 0 and length / n <= 80\n",
    "    ],\n",
    "    reverse=True,\n",
    ")[0]\n",
    "test_steps = int(length / test_batch_size)\n",
    "print(\"test batch size: \", test_batch_size, \"  test steps: \", test_steps)\n",
    "\n",
    "\n",
    "gen = ImageDataGenerator()  # no scaling of pixels is need for efficientnet\n",
    "train_gen = gen.flow_from_dataframe(\n",
    "    train_df,\n",
    "    sdir,\n",
    "    x_col=\"image\",\n",
    "    y_col=\"label\",\n",
    "    target_size=img_size,\n",
    "    class_mode=\"categorical\",\n",
    "    color_mode=\"rgb\",\n",
    "    shuffle=True,\n",
    "    batch_size=batch_size,\n",
    ")\n",
    "test_gen = gen.flow_from_dataframe(\n",
    "    test_df,\n",
    "    sdir,\n",
    "    x_col=\"image\",\n",
    "    y_col=\"label\",\n",
    "    target_size=img_size,\n",
    "    class_mode=\"categorical\",\n",
    "    color_mode=\"rgb\",\n",
    "    shuffle=False,\n",
    "    batch_size=test_batch_size,\n",
    ")\n",
    "valid_gen = gen.flow_from_dataframe(\n",
    "    valid_df,\n",
    "    sdir,\n",
    "    x_col=\"image\",\n",
    "    y_col=\"label\",\n",
    "    target_size=img_size,\n",
    "    class_mode=\"categorical\",\n",
    "    color_mode=\"rgb\",\n",
    "    shuffle=True,\n",
    "    batch_size=batch_size,\n",
    ")\n",
    "\n",
    "classes = list(train_gen.class_indices.keys())\n",
    "\n",
    "class_count = len(classes)\n",
    "train_steps = int(len(train_gen.labels) / batch_size)"
   ]
  },
  {
   "cell_type": "markdown",
   "id": "entire-closure",
   "metadata": {
    "papermill": {
     "duration": 0.02811,
     "end_time": "2021-05-29T01:34:32.381387",
     "exception": false,
     "start_time": "2021-05-29T01:34:32.353277",
     "status": "completed"
    },
    "tags": []
   },
   "source": [
    "### class_weight to balance"
   ]
  },
  {
   "cell_type": "code",
   "execution_count": null,
   "id": "polyphonic-monster",
   "metadata": {
    "execution": {
     "iopub.execute_input": "2021-05-29T01:34:32.450992Z",
     "iopub.status.busy": "2021-05-29T01:34:32.450165Z",
     "iopub.status.idle": "2021-05-29T01:34:32.455863Z",
     "shell.execute_reply": "2021-05-29T01:34:32.455306Z",
     "shell.execute_reply.started": "2021-05-29T01:33:19.091839Z"
    },
    "papermill": {
     "duration": 0.045775,
     "end_time": "2021-05-29T01:34:32.456029",
     "exception": false,
     "start_time": "2021-05-29T01:34:32.410254",
     "status": "completed"
    },
    "tags": []
   },
   "outputs": [],
   "source": [
    "class_weight = {}\n",
    "train_dict = train_gen.class_indices\n",
    "classes = list(train_dict.keys())\n",
    "class_count = len(classes)\n",
    "labels = train_gen.labels\n",
    "count_array = np.zeros((class_count))\n",
    "\n",
    "for value in train_dict.values():\n",
    "    for label in labels:\n",
    "        if label == value:\n",
    "            count_array[value] += 1\n",
    "\n",
    "# print (count_array)\n",
    "max_samples = np.max(count_array)\n",
    "max_index = np.argmax(count_array)\n",
    "max_class = classes[max_index]\n",
    "\n",
    "print(\"class \", max_class, \" with \", max_samples, \"samples has the largest sample size\")\n",
    "msg = \"{0:^30s}{1:^10s}{2:^9s}\".format(\"Class\", \"Samples\", \"Weight\")\n",
    "print(msg)\n",
    "\n",
    "for i in range(class_count):\n",
    "    class_weight[i] = max_samples / count_array[i]\n",
    "    msg = f\"{classes[i]:^30s}{str(count_array[i]):^10s}{class_weight[i]:^9.5f}\"\n",
    "    print(msg)"
   ]
  },
  {
   "cell_type": "markdown",
   "id": "personalized-venezuela",
   "metadata": {
    "papermill": {
     "duration": 0.028288,
     "end_time": "2021-05-29T01:34:32.513228",
     "exception": false,
     "start_time": "2021-05-29T01:34:32.484940",
     "status": "completed"
    },
    "tags": []
   },
   "source": [
    "### Function to show some image examples"
   ]
  },
  {
   "cell_type": "code",
   "execution_count": null,
   "id": "unexpected-trash",
   "metadata": {
    "execution": {
     "iopub.execute_input": "2021-05-29T01:34:32.578152Z",
     "iopub.status.busy": "2021-05-29T01:34:32.576907Z",
     "iopub.status.idle": "2021-05-29T01:34:32.579224Z",
     "shell.execute_reply": "2021-05-29T01:34:32.579650Z",
     "shell.execute_reply.started": "2021-05-29T01:33:19.108585Z"
    },
    "papermill": {
     "duration": 0.037661,
     "end_time": "2021-05-29T01:34:32.579768",
     "exception": false,
     "start_time": "2021-05-29T01:34:32.542107",
     "status": "completed"
    },
    "tags": []
   },
   "outputs": [],
   "source": [
    "def show_image_samples(gen):\n",
    "    test_dict = test_gen.class_indices\n",
    "    classes = list(test_dict.keys())\n",
    "    images, labels = next(gen)  # get a sample batch from the generator\n",
    "    plt.figure(figsize=(20, 20))\n",
    "    length = len(labels)\n",
    "    if length < 25:  # show maximum of 25 images\n",
    "        r = length\n",
    "    else:\n",
    "        r = 25\n",
    "    for i in range(r):\n",
    "        plt.subplot(5, 5, i + 1)\n",
    "        image = (\n",
    "            images[i] / 255\n",
    "        )  # scale images between 0 and 1 because no preprocessing scaling was done for efficientnet\n",
    "        plt.imshow(image)\n",
    "        index = np.argmax(labels[i])\n",
    "        class_name = classes[index]\n",
    "        plt.title(class_name, color=\"blue\", fontsize=16)\n",
    "        plt.axis(\"off\")\n",
    "    plt.show()"
   ]
  },
  {
   "cell_type": "code",
   "execution_count": null,
   "id": "written-dinner",
   "metadata": {
    "execution": {
     "iopub.execute_input": "2021-05-29T01:34:32.639710Z",
     "iopub.status.busy": "2021-05-29T01:34:32.639230Z",
     "iopub.status.idle": "2021-05-29T01:34:36.712323Z",
     "shell.execute_reply": "2021-05-29T01:34:36.712734Z",
     "shell.execute_reply.started": "2021-05-29T01:33:19.120624Z"
    },
    "papermill": {
     "duration": 4.104912,
     "end_time": "2021-05-29T01:34:36.712895",
     "exception": false,
     "start_time": "2021-05-29T01:34:32.607983",
     "status": "completed"
    },
    "tags": []
   },
   "outputs": [],
   "source": [
    "show_image_samples(train_gen)"
   ]
  },
  {
   "cell_type": "markdown",
   "id": "environmental-animation",
   "metadata": {
    "papermill": {
     "duration": 0.068186,
     "end_time": "2021-05-29T01:34:36.849808",
     "exception": false,
     "start_time": "2021-05-29T01:34:36.781622",
     "status": "completed"
    },
    "tags": []
   },
   "source": [
    "### prettier print"
   ]
  },
  {
   "cell_type": "code",
   "execution_count": null,
   "id": "extended-sandwich",
   "metadata": {
    "execution": {
     "iopub.execute_input": "2021-05-29T01:34:36.993739Z",
     "iopub.status.busy": "2021-05-29T01:34:36.992954Z",
     "iopub.status.idle": "2021-05-29T01:34:36.995761Z",
     "shell.execute_reply": "2021-05-29T01:34:36.995365Z",
     "shell.execute_reply.started": "2021-05-29T01:33:23.235567Z"
    },
    "papermill": {
     "duration": 0.077819,
     "end_time": "2021-05-29T01:34:36.995892",
     "exception": false,
     "start_time": "2021-05-29T01:34:36.918073",
     "status": "completed"
    },
    "tags": []
   },
   "outputs": [],
   "source": [
    "def print_in_color(\n",
    "    txt_msg,\n",
    "    fore_tupple,\n",
    "    back_tupple,\n",
    "):\n",
    "    # prints the text_msg in the foreground color specified by fore_tupple with the background specified by back_tupple\n",
    "    # text_msg is the text, fore_tupple is foregroud color tupple (r,g,b), back_tupple is background tupple (r,g,b)\n",
    "    rf, gf, bf = fore_tupple\n",
    "    rb, gb, bb = back_tupple\n",
    "    msg = \"{0}\" + txt_msg\n",
    "    mat = (\n",
    "        \"\\33[38;2;\"\n",
    "        + str(rf)\n",
    "        + \";\"\n",
    "        + str(gf)\n",
    "        + \";\"\n",
    "        + str(bf)\n",
    "        + \";48;2;\"\n",
    "        + str(rb)\n",
    "        + \";\"\n",
    "        + str(gb)\n",
    "        + \";\"\n",
    "        + str(bb)\n",
    "        + \"m\"\n",
    "    )\n",
    "    print(msg.format(mat), flush=True)\n",
    "    print(\"\\33[0m\", flush=True)  # returns default print color to back to black\n",
    "    return"
   ]
  },
  {
   "cell_type": "markdown",
   "id": "executive-submission",
   "metadata": {
    "papermill": {
     "duration": 0.068091,
     "end_time": "2021-05-29T01:34:37.131532",
     "exception": false,
     "start_time": "2021-05-29T01:34:37.063441",
     "status": "completed"
    },
    "tags": []
   },
   "source": [
    "### Create the model"
   ]
  },
  {
   "cell_type": "code",
   "execution_count": null,
   "id": "lightweight-dialogue",
   "metadata": {
    "execution": {
     "iopub.execute_input": "2021-05-29T01:34:37.277622Z",
     "iopub.status.busy": "2021-05-29T01:34:37.277109Z",
     "iopub.status.idle": "2021-05-29T01:34:41.818462Z",
     "shell.execute_reply": "2021-05-29T01:34:41.817755Z",
     "shell.execute_reply.started": "2021-05-29T01:33:23.243659Z"
    },
    "papermill": {
     "duration": 4.619335,
     "end_time": "2021-05-29T01:34:41.818601",
     "exception": false,
     "start_time": "2021-05-29T01:34:37.199266",
     "status": "completed"
    },
    "tags": []
   },
   "outputs": [],
   "source": [
    "model_name = \"EfficientNetB1\"\n",
    "base_model = tf.keras.applications.EfficientNetB1(\n",
    "    include_top=False, weights=\"imagenet\", input_shape=img_shape, pooling=\"max\"\n",
    ")\n",
    "\n",
    "model = tf.keras.Sequential(\n",
    "    [\n",
    "        base_model,\n",
    "        BatchNormalization(axis=-1, momentum=0.99, epsilon=0.001),\n",
    "        Dense(\n",
    "            256,\n",
    "            kernel_regularizer=regularizers.l2(l=0.016),\n",
    "            activity_regularizer=regularizers.l1(0.006),\n",
    "            bias_regularizer=regularizers.l1(0.006),\n",
    "            activation=\"relu\",\n",
    "        ),\n",
    "        Dropout(rate=0.45, seed=123),\n",
    "        Dense(class_count, activation=\"softmax\"),\n",
    "    ]\n",
    ")\n",
    "\n",
    "model.compile(\n",
    "    Adamax(learning_rate=0.001), loss=\"categorical_crossentropy\", metrics=[\"accuracy\"]\n",
    ")"
   ]
  },
  {
   "cell_type": "markdown",
   "id": "coral-colony",
   "metadata": {
    "papermill": {
     "duration": 0.087681,
     "end_time": "2021-05-29T01:34:41.976164",
     "exception": false,
     "start_time": "2021-05-29T01:34:41.888483",
     "status": "completed"
    },
    "tags": []
   },
   "source": [
    "### Create a subclass of callbacks to control learning rate and print training results for each epoch"
   ]
  },
  {
   "cell_type": "code",
   "execution_count": null,
   "id": "requested-happiness",
   "metadata": {
    "execution": {
     "iopub.execute_input": "2021-05-29T01:34:42.150644Z",
     "iopub.status.busy": "2021-05-29T01:34:42.148836Z",
     "iopub.status.idle": "2021-05-29T01:34:42.151274Z",
     "shell.execute_reply": "2021-05-29T01:34:42.151658Z",
     "shell.execute_reply.started": "2021-05-29T01:33:28.274384Z"
    },
    "papermill": {
     "duration": 0.105126,
     "end_time": "2021-05-29T01:34:42.151787",
     "exception": false,
     "start_time": "2021-05-29T01:34:42.046661",
     "status": "completed"
    },
    "tags": []
   },
   "outputs": [],
   "source": [
    "class LRA(keras.callbacks.Callback):\n",
    "    reset = False\n",
    "    count = 0\n",
    "    stop_count = 0\n",
    "    tepochs = 0\n",
    "\n",
    "    def __init__(\n",
    "        self,\n",
    "        model,\n",
    "        patience,\n",
    "        stop_patience,\n",
    "        threshold,\n",
    "        factor,\n",
    "        dwell,\n",
    "        model_name,\n",
    "        freeze,\n",
    "        batches,\n",
    "        initial_epoch,\n",
    "    ):\n",
    "        super(LRA, self).__init__()\n",
    "        self.model = model\n",
    "        self.patience = patience  # specifies how many epochs without improvement before learning rate is adjusted\n",
    "        self.stop_patience = stop_patience\n",
    "        self.threshold = threshold  # specifies training accuracy threshold when lr will be adjusted based on validation loss\n",
    "        self.factor = factor  # factor by which to reduce the learning rate\n",
    "        self.dwell = dwell\n",
    "        self.lr = float(\n",
    "            tf.keras.backend.get_value(model.optimizer.lr)\n",
    "        )  # get the initiallearning rate and save it in self.lr\n",
    "        self.highest_tracc = 0.0  # set highest training accuracy to 0\n",
    "        self.lowest_vloss = np.inf  # set lowest validation loss to infinity\n",
    "        # self.count=0 # initialize counter that counts epochs with no improvement\n",
    "        # self.stop_count=0 # initialize counter that counts how manytimes lr has been adjustd with no improvement\n",
    "        self.initial_epoch = initial_epoch\n",
    "        self.batches = batches\n",
    "        # self.epochs=epochs\n",
    "        # best_weights = (\n",
    "        #     self.model.get_weights()\n",
    "        # )  # set a class vaiable so weights can be loaded after training is completed\n",
    "        if freeze is True:\n",
    "            msgs = f\" Starting training using  base model { model_name} with weights frozen to imagenet weights initializing LRA callback\"\n",
    "        else:\n",
    "            msgs = f\" Starting training using base model { model_name} training all layers \"\n",
    "        print_in_color(msgs, (244, 252, 3), (55, 65, 80))\n",
    "\n",
    "    def on_train_begin(self, logs=None):\n",
    "        msg = \"{0:^8s}{1:^10s}{2:^9s}{3:^9s}{4:^9s}{5:^9s}{6:^9s}{7:^10s}{8:^8s}{9:^8s}\".format(\n",
    "            \"Epoch\",\n",
    "            \"Loss\",\n",
    "            \"Accuracy\",\n",
    "            \"V_loss\",\n",
    "            \"V_acc\",\n",
    "            \"LR\",\n",
    "            \"Next LR\",\n",
    "            \"Monitor\",\n",
    "            \"Duration\",\n",
    "            \"Batch\",\n",
    "        )\n",
    "        print_in_color(msg, (244, 252, 3), (55, 65, 80))\n",
    "\n",
    "    def on_train_batch_begin(self, batch, logs=None):\n",
    "        msg = \"{0:83s}{1:4s}of {2:5s}\".format(\" \", str(batch), str(self.batches))\n",
    "        print(\n",
    "            msg, \"\\r\", end=\"\"\n",
    "        )  # prints over on the same line to show running batch count\n",
    "\n",
    "    def on_epoch_begin(self, epoch, logs=None):\n",
    "        self.now = time.time()\n",
    "\n",
    "    def on_epoch_end(self, epoch, logs=None):  # method runs on the end of each epoch\n",
    "        later = time.time()\n",
    "        duration = later - self.now\n",
    "        lr = float(\n",
    "            tf.keras.backend.get_value(self.model.optimizer.lr)\n",
    "        )  # get the current learning rate\n",
    "        current_lr = lr\n",
    "        v_loss = logs.get(\"val_loss\")  # get the validation loss for this epoch\n",
    "        acc = logs.get(\"accuracy\")  # get training accuracy\n",
    "        v_acc = logs.get(\"val_accuracy\")\n",
    "        loss = logs.get(\"loss\")\n",
    "        # print ( '\\n',v_loss, self.lowest_vloss, acc, self.highest_tracc)\n",
    "        if (\n",
    "            acc < self.threshold\n",
    "        ):  # if training accuracy is below threshold adjust lr based on training accuracy\n",
    "            monitor = \"accuracy\"\n",
    "            if acc > self.highest_tracc:  # training accuracy improved in the epoch\n",
    "                self.highest_tracc = acc  # set new highest training accuracy\n",
    "                LRA.best_weights = (\n",
    "                    self.model.get_weights()\n",
    "                )  # traing accuracy improved so save the weights\n",
    "                self.count = 0  # set count to 0 since training accuracy improved\n",
    "                self.stop_count = 0  # set stop counter to 0\n",
    "                if v_loss < self.lowest_vloss:\n",
    "                    self.lowest_vloss = v_loss\n",
    "                color = (0, 255, 0)\n",
    "                self.lr = lr\n",
    "            else:\n",
    "                # training accuracy did not improve check if this has happened for patience number of epochs\n",
    "                # if so adjust learning rate\n",
    "                if self.count >= self.patience - 1:\n",
    "                    color = (245, 170, 66)\n",
    "                    self.lr = lr * self.factor  # adjust the learning by factor\n",
    "                    tf.keras.backend.set_value(\n",
    "                        self.model.optimizer.lr, self.lr\n",
    "                    )  # set the learning rate in the optimizer\n",
    "                    self.count = 0  # reset the count to 0\n",
    "                    self.stop_count = self.stop_count + 1\n",
    "                    if self.dwell:\n",
    "                        self.model.set_weights(\n",
    "                            LRA.best_weights\n",
    "                        )  # return to better point in N space\n",
    "                    else:\n",
    "                        if v_loss < self.lowest_vloss:\n",
    "                            self.lowest_vloss = v_loss\n",
    "                else:\n",
    "                    self.count = self.count + 1  # increment patience counter\n",
    "        else:  # training accuracy is above threshold so adjust learning rate based on validation loss\n",
    "            monitor = \"val_loss\"\n",
    "            if v_loss < self.lowest_vloss:  # check if the validation loss improved\n",
    "                self.lowest_vloss = (\n",
    "                    v_loss  # replace lowest validation loss with new validation loss\n",
    "                )\n",
    "                LRA.best_weights = (\n",
    "                    self.model.get_weights()\n",
    "                )  # validation loss improved so save the weights\n",
    "                self.count = 0  # reset count since validation loss improved\n",
    "                self.stop_count = 0\n",
    "                color = (0, 255, 0)\n",
    "                self.lr = lr\n",
    "            else:  # validation loss did not improve\n",
    "                if self.count >= self.patience - 1:\n",
    "                    color = (245, 170, 66)\n",
    "                    self.lr = self.lr * self.factor  # adjust the learning rate\n",
    "                    self.stop_count = (\n",
    "                        self.stop_count + 1\n",
    "                    )  # increment stop counter because lr was adjusted\n",
    "                    self.count = 0  # reset counter\n",
    "                    tf.keras.backend.set_value(\n",
    "                        self.model.optimizer.lr, self.lr\n",
    "                    )  # set the learning rate in the optimizer\n",
    "                    if self.dwell:\n",
    "                        self.model.set_weights(\n",
    "                            LRA.best_weights\n",
    "                        )  # return to better point in N space\n",
    "                else:\n",
    "                    self.count = self.count + 1  # increment the patience counter\n",
    "                if acc > self.highest_tracc:\n",
    "                    self.highest_tracc = acc\n",
    "        msg = f\"{str(epoch+1):^3s}/{str(LRA.tepochs):4s} {loss:^9.3f}{acc*100:^9.3f}{v_loss:^9.5f}{v_acc*100:^9.3f}{current_lr:^9.5f}{self.lr:^9.5f}{monitor:^11s}{duration:^8.2f}\"\n",
    "        print_in_color(msg, color, (55, 65, 80))\n",
    "        if (\n",
    "            self.stop_count > self.stop_patience - 1\n",
    "        ):  # check if learning rate has been adjusted stop_count times with no improvement\n",
    "            msg = f\" training has been halted at epoch {epoch + 1} after {self.stop_patience} adjustments of learning rate with no improvement\"\n",
    "            print_in_color(msg, (0, 255, 0), (55, 65, 80))\n",
    "            self.model.stop_training = True  # stop training"
   ]
  },
  {
   "cell_type": "markdown",
   "id": "russian-consistency",
   "metadata": {
    "papermill": {
     "duration": 0.069364,
     "end_time": "2021-05-29T01:34:42.290247",
     "exception": false,
     "start_time": "2021-05-29T01:34:42.220883",
     "status": "completed"
    },
    "tags": []
   },
   "source": [
    "### Instantiate the callback and train the model"
   ]
  },
  {
   "cell_type": "code",
   "execution_count": null,
   "id": "expanded-import",
   "metadata": {
    "execution": {
     "iopub.execute_input": "2021-05-29T01:34:42.441171Z",
     "iopub.status.busy": "2021-05-29T01:34:42.440503Z",
     "iopub.status.idle": "2021-05-29T01:49:52.835790Z",
     "shell.execute_reply": "2021-05-29T01:49:52.836188Z"
    },
    "papermill": {
     "duration": 910.47665,
     "end_time": "2021-05-29T01:49:52.836344",
     "exception": false,
     "start_time": "2021-05-29T01:34:42.359694",
     "status": "completed"
    },
    "tags": []
   },
   "outputs": [],
   "source": [
    "epochs = 40\n",
    "patience = (\n",
    "    1  # number of epochs to wait to adjust lr if monitored value does not improve\n",
    ")\n",
    "stop_patience = 3  # number of epochs to wait before stopping training if monitored value does not improve\n",
    "threshold = 0.9  # if train accuracy is < threshhold adjust monitor accuracy, else monitor validation loss\n",
    "factor = 0.5  # factor to reduce lr by\n",
    "dwell = True  # experimental, if True and monitored metric does not improve on current epoch set  modelweights back to weights of previous epoch\n",
    "freeze = False  # if true free weights of  the base model\n",
    "batches = train_steps\n",
    "callbacks = [\n",
    "    LRA(\n",
    "        model=model,\n",
    "        patience=patience,\n",
    "        stop_patience=stop_patience,\n",
    "        threshold=threshold,\n",
    "        factor=factor,\n",
    "        dwell=dwell,\n",
    "        model_name=model_name,\n",
    "        freeze=freeze,\n",
    "        batches=batches,\n",
    "        initial_epoch=0,\n",
    "    )\n",
    "]\n",
    "LRA.tepochs = epochs  # used to determine value of last epoch for printing\n",
    "history = model.fit(\n",
    "    x=train_gen,\n",
    "    epochs=epochs,\n",
    "    verbose=0,\n",
    "    callbacks=callbacks,\n",
    "    validation_data=valid_gen,\n",
    "    validation_steps=None,\n",
    "    shuffle=False,\n",
    "    initial_epoch=0,\n",
    "    class_weight=class_weight,\n",
    ")"
   ]
  },
  {
   "cell_type": "markdown",
   "id": "removed-election",
   "metadata": {
    "papermill": {
     "duration": 0.464672,
     "end_time": "2021-05-29T01:49:53.770990",
     "exception": false,
     "start_time": "2021-05-29T01:49:53.306318",
     "status": "completed"
    },
    "tags": []
   },
   "source": [
    "### Function to plot the training data"
   ]
  },
  {
   "cell_type": "code",
   "execution_count": null,
   "id": "isolated-nerve",
   "metadata": {
    "execution": {
     "iopub.execute_input": "2021-05-29T01:49:54.919757Z",
     "iopub.status.busy": "2021-05-29T01:49:54.918920Z",
     "iopub.status.idle": "2021-05-29T01:49:54.928632Z",
     "shell.execute_reply": "2021-05-29T01:49:54.929157Z"
    },
    "papermill": {
     "duration": 0.693717,
     "end_time": "2021-05-29T01:49:54.929348",
     "exception": false,
     "start_time": "2021-05-29T01:49:54.235631",
     "status": "completed"
    },
    "tags": []
   },
   "outputs": [],
   "source": [
    "def tr_plot(tr_data, start_epoch):\n",
    "    # Plot the training and validation data\n",
    "    tacc = tr_data.history[\"accuracy\"]\n",
    "    tloss = tr_data.history[\"loss\"]\n",
    "    vacc = tr_data.history[\"val_accuracy\"]\n",
    "    vloss = tr_data.history[\"val_loss\"]\n",
    "    Epoch_count = len(tacc) + start_epoch\n",
    "    Epochs = []\n",
    "    for i in range(start_epoch, Epoch_count):\n",
    "        Epochs.append(i + 1)\n",
    "    index_loss = np.argmin(vloss)  #  Epoch with the lowest validation loss\n",
    "    val_lowest = vloss[index_loss]\n",
    "    index_acc = np.argmax(vacc)\n",
    "    acc_highest = vacc[index_acc]\n",
    "    plt.style.use(\"fivethirtyeight\")\n",
    "    sc_label = \"best epoch= \" + str(index_loss + 1 + start_epoch)\n",
    "    vc_label = \"best epoch= \" + str(index_acc + 1 + start_epoch)\n",
    "    fig, axes = plt.subplots(nrows=1, ncols=2, figsize=(20, 8))\n",
    "    axes[0].plot(Epochs, tloss, \"r\", label=\"Training loss\")\n",
    "    axes[0].plot(Epochs, vloss, \"g\", label=\"Validation loss\")\n",
    "    axes[0].scatter(\n",
    "        index_loss + 1 + start_epoch, val_lowest, s=150, c=\"blue\", label=sc_label\n",
    "    )\n",
    "    axes[0].set_title(\"Training and Validation Loss\")\n",
    "    axes[0].set_xlabel(\"Epochs\")\n",
    "    axes[0].set_ylabel(\"Loss\")\n",
    "    axes[0].legend()\n",
    "    axes[1].plot(Epochs, tacc, \"r\", label=\"Training Accuracy\")\n",
    "    axes[1].plot(Epochs, vacc, \"g\", label=\"Validation Accuracy\")\n",
    "    axes[1].scatter(\n",
    "        index_acc + 1 + start_epoch, acc_highest, s=150, c=\"blue\", label=vc_label\n",
    "    )\n",
    "    axes[1].set_title(\"Training and Validation Accuracy\")\n",
    "    axes[1].set_xlabel(\"Epochs\")\n",
    "    axes[1].set_ylabel(\"Accuracy\")\n",
    "    axes[1].legend()\n",
    "    plt.tight_layout\n",
    "    plt.show()"
   ]
  },
  {
   "cell_type": "markdown",
   "id": "visible-treasure",
   "metadata": {
    "papermill": {
     "duration": 0.463732,
     "end_time": "2021-05-29T01:49:56.072287",
     "exception": false,
     "start_time": "2021-05-29T01:49:55.608555",
     "status": "completed"
    },
    "tags": []
   },
   "source": [
    "### Define function to generate the confusion matrix and classification report"
   ]
  },
  {
   "cell_type": "code",
   "execution_count": null,
   "id": "enhanced-motor",
   "metadata": {
    "execution": {
     "iopub.execute_input": "2021-05-29T01:49:57.030907Z",
     "iopub.status.busy": "2021-05-29T01:49:57.030272Z",
     "iopub.status.idle": "2021-05-29T01:49:57.033273Z",
     "shell.execute_reply": "2021-05-29T01:49:57.032844Z"
    },
    "papermill": {
     "duration": 0.495118,
     "end_time": "2021-05-29T01:49:57.033387",
     "exception": false,
     "start_time": "2021-05-29T01:49:56.538269",
     "status": "completed"
    },
    "tags": []
   },
   "outputs": [],
   "source": [
    "def print_info(test_gen, preds, print_code, save_dir, subject):\n",
    "    class_dict = test_gen.class_indices\n",
    "    labels = test_gen.labels\n",
    "    file_names = test_gen.filenames\n",
    "    error_list = []\n",
    "    true_class = []\n",
    "    pred_class = []\n",
    "    prob_list = []\n",
    "    new_dict = {}\n",
    "    error_indices = []\n",
    "    y_pred = []\n",
    "    for key, value in class_dict.items():\n",
    "        new_dict[value] = (\n",
    "            key  # dictionary {integer of class number: string of class name}\n",
    "        )\n",
    "    # store new_dict as a text fine in the save_dir\n",
    "    classes = list(new_dict.values())  # list of string of class names\n",
    "    dict_as_text = str(new_dict)\n",
    "    dict_name = subject + \"-\" + str(len(classes)) + \".txt\"\n",
    "    dict_path = os.path.join(save_dir, dict_name)\n",
    "    with open(dict_path, \"w\") as x_file:\n",
    "        x_file.write(dict_as_text)\n",
    "    errors = 0\n",
    "    for i, p in enumerate(preds):\n",
    "        pred_index = np.argmax(p)\n",
    "        true_index = labels[i]  # labels are integer values\n",
    "        if pred_index != true_index:  # a misclassification has occurred\n",
    "            error_list.append(file_names[i])\n",
    "            true_class.append(new_dict[true_index])\n",
    "            pred_class.append(new_dict[pred_index])\n",
    "            prob_list.append(p[pred_index])\n",
    "            error_indices.append(true_index)\n",
    "            errors = errors + 1\n",
    "        y_pred.append(pred_index)\n",
    "    if print_code != 0:\n",
    "        if errors > 0:\n",
    "            if print_code > errors:\n",
    "                r = errors\n",
    "            else:\n",
    "                r = print_code\n",
    "            msg = \"{0:^28s}{1:^28s}{2:^28s}{3:^16s}\".format(\n",
    "                \"Filename\", \"Predicted Class\", \"True Class\", \"Probability\"\n",
    "            )\n",
    "            print_in_color(msg, (0, 255, 0), (55, 65, 80))\n",
    "            for i in range(r):\n",
    "                split1 = os.path.split(error_list[i])\n",
    "                split2 = os.path.split(split1[0])\n",
    "                fname = split2[1] + \"/\" + split1[1]\n",
    "                msg = \"{0:^28s}{1:^28s}{2:^28s}{3:4s}{4:^6.4f}\".format(\n",
    "                    fname, pred_class[i], true_class[i], \" \", prob_list[i]\n",
    "                )\n",
    "                print_in_color(msg, (255, 255, 255), (55, 65, 60))\n",
    "                # print(error_list[i]  , pred_class[i], true_class[i], prob_list[i])\n",
    "        else:\n",
    "            msg = \"With accuracy of 100 % there are no errors to print\"\n",
    "            print_in_color(msg, (0, 255, 0), (55, 65, 80))\n",
    "    if errors > 0:\n",
    "        plot_bar = []\n",
    "        plot_class = []\n",
    "        for key, value in new_dict.items():\n",
    "            count = error_indices.count(key)\n",
    "            if count != 0:\n",
    "                plot_bar.append(\n",
    "                    count\n",
    "                )  # list containg how many times a class c had an error\n",
    "                plot_class.append(value)  # stores the class\n",
    "        fig = plt.figure()\n",
    "        fig.set_figheight(len(plot_class) / 3)\n",
    "        fig.set_figwidth(10)\n",
    "        plt.style.use(\"fivethirtyeight\")\n",
    "        for i in range(0, len(plot_class)):\n",
    "            c = plot_class[i]\n",
    "            x = plot_bar[i]\n",
    "            plt.barh(\n",
    "                c,\n",
    "                x,\n",
    "            )\n",
    "            plt.title(\" Errors by Class on Test Set\")\n",
    "    y_true = np.array(labels)\n",
    "    y_pred = np.array(y_pred)\n",
    "    if len(classes) <= 30:\n",
    "        # create a confusion matrix\n",
    "        cm = confusion_matrix(y_true, y_pred)\n",
    "        length = len(classes)\n",
    "        if length < 8:\n",
    "            fig_width = 8\n",
    "            fig_height = 8\n",
    "        else:\n",
    "            fig_width = int(length * 0.5)\n",
    "            fig_height = int(length * 0.5)\n",
    "        plt.figure(figsize=(fig_width, fig_height))\n",
    "        sns.heatmap(cm, annot=True, vmin=0, fmt=\"g\", cmap=\"Blues\", cbar=False)\n",
    "        plt.xticks(np.arange(length) + 0.5, classes, rotation=90)\n",
    "        plt.yticks(np.arange(length) + 0.5, classes, rotation=0)\n",
    "        plt.xlabel(\"Predicted\")\n",
    "        plt.ylabel(\"Actual\")\n",
    "        plt.title(\"Confusion Matrix\")\n",
    "        plt.show()\n",
    "    clr = classification_report(y_true, y_pred, target_names=classes)\n",
    "    print(\"Classification Report:\\n----------------------\\n\", clr)"
   ]
  },
  {
   "cell_type": "markdown",
   "id": "italian-means",
   "metadata": {
    "papermill": {
     "duration": 0.659304,
     "end_time": "2021-05-29T01:49:58.156960",
     "exception": false,
     "start_time": "2021-05-29T01:49:57.497656",
     "status": "completed"
    },
    "tags": []
   },
   "source": [
    "### Evaluate model on the test set then save the model"
   ]
  },
  {
   "cell_type": "code",
   "execution_count": null,
   "id": "functional-tooth",
   "metadata": {
    "execution": {
     "iopub.execute_input": "2021-05-29T01:49:59.138710Z",
     "iopub.status.busy": "2021-05-29T01:49:59.138178Z",
     "iopub.status.idle": "2021-05-29T01:50:07.397853Z",
     "shell.execute_reply": "2021-05-29T01:50:07.397308Z"
    },
    "papermill": {
     "duration": 8.744588,
     "end_time": "2021-05-29T01:50:07.398009",
     "exception": false,
     "start_time": "2021-05-29T01:49:58.653421",
     "status": "completed"
    },
    "tags": []
   },
   "outputs": [],
   "source": [
    "tr_plot(history, 0)\n",
    "acc = (\n",
    "    model.evaluate(\n",
    "        test_gen,\n",
    "        batch_size=test_batch_size,\n",
    "        verbose=1,\n",
    "        steps=test_steps,\n",
    "        return_dict=False,\n",
    "    )[1]\n",
    "    * 100\n",
    ")\n",
    "msg = f\"accuracy on the test set is {acc:5.2f} %\"\n",
    "print_in_color(msg, (0, 255, 0), (55, 65, 80))\n",
    "save_id = str(\n",
    "    model_name + \"-\" + subject + \"-\" + str(acc)[: str(acc).rfind(\".\") + 3] + \".keras\"\n",
    ")\n",
    "save_loc = os.path.join(save_dir, save_id)\n",
    "model.save(save_loc)"
   ]
  },
  {
   "cell_type": "markdown",
   "id": "floating-recipient",
   "metadata": {
    "papermill": {
     "duration": 0.49424,
     "end_time": "2021-05-29T01:50:08.425083",
     "exception": false,
     "start_time": "2021-05-29T01:50:07.930843",
     "status": "completed"
    },
    "tags": []
   },
   "source": [
    "### Make predictions on test set and generate confusion matrix and classification report\n"
   ]
  },
  {
   "cell_type": "code",
   "execution_count": null,
   "id": "atmospheric-latin",
   "metadata": {
    "execution": {
     "iopub.execute_input": "2021-05-29T01:50:09.638328Z",
     "iopub.status.busy": "2021-05-29T01:50:09.637407Z",
     "iopub.status.idle": "2021-05-29T01:50:15.046218Z",
     "shell.execute_reply": "2021-05-29T01:50:15.046826Z"
    },
    "papermill": {
     "duration": 5.966035,
     "end_time": "2021-05-29T01:50:15.047048",
     "exception": false,
     "start_time": "2021-05-29T01:50:09.081013",
     "status": "completed"
    },
    "tags": []
   },
   "outputs": [],
   "source": [
    "print_code = 0\n",
    "preds = model.predict(test_gen)\n",
    "print_info(test_gen, preds, print_code, save_dir, subject)"
   ]
  },
  {
   "cell_type": "markdown",
   "id": "0a6d48ec",
   "metadata": {},
   "source": [
    "#### Note: upload the saved model manually to google drive or add code to upload to google cloud storage"
   ]
  }
 ],
 "metadata": {
  "kernelspec": {
   "display_name": ".venv",
   "language": "python",
   "name": "python3"
  },
  "language_info": {
   "codemirror_mode": {
    "name": "ipython",
    "version": 3
   },
   "file_extension": ".py",
   "mimetype": "text/x-python",
   "name": "python",
   "nbconvert_exporter": "python",
   "pygments_lexer": "ipython3",
   "version": "3.10.15"
  },
  "papermill": {
   "default_parameters": {},
   "duration": 968.332833,
   "end_time": "2021-05-29T01:50:21.662327",
   "environment_variables": {},
   "exception": null,
   "input_path": "__notebook__.ipynb",
   "output_path": "__notebook__.ipynb",
   "parameters": {},
   "start_time": "2021-05-29T01:34:13.329494",
   "version": "2.3.3"
  }
 },
 "nbformat": 4,
 "nbformat_minor": 5
}
