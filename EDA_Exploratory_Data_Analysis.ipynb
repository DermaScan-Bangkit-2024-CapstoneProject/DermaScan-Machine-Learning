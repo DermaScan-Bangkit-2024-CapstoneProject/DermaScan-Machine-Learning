{
  "nbformat": 4,
  "nbformat_minor": 0,
  "metadata": {
    "colab": {
      "provenance": [],
      "authorship_tag": "ABX9TyPY7Y8PQRCuaDHY1vi1c6Ok"
    },
    "kernelspec": {
      "name": "python3",
      "display_name": "Python 3"
    },
    "language_info": {
      "name": "python"
    }
  },
  "cells": [
    {
      "cell_type": "markdown",
      "source": [
        "#Importing Libraries"
      ],
      "metadata": {
        "id": "fEdUMf1Wn8sf"
      }
    },
    {
      "cell_type": "code",
      "execution_count": 7,
      "metadata": {
        "id": "M3nFhqTYl2Xb"
      },
      "outputs": [],
      "source": [
        "%matplotlib inline\n",
        "import matplotlib.pyplot as plt\n",
        "import numpy as np\n",
        "import pandas as pd\n",
        "import os\n",
        "from glob import glob\n",
        "import seaborn as sns\n",
        "from PIL import Image\n",
        "np.random.seed(123)\n",
        "from sklearn.preprocessing import label_binarize\n",
        "from sklearn.metrics import confusion_matrix\n",
        "import itertools\n",
        "\n",
        "import tensorflow as tf\n",
        "from tensorflow.keras.utils import to_categorical\n",
        "from tensorflow.keras.models import Sequential\n",
        "from tensorflow.keras.layers import Dense, Dropout, Flatten, Conv2D, MaxPool2D\n",
        "from tensorflow.keras import backend as K\n",
        "from tensorflow.keras.layers import BatchNormalization\n",
        "\n",
        "from tensorflow.keras.optimizers import Adam\n",
        "from tensorflow.keras.preprocessing.image import ImageDataGenerator\n",
        "from tensorflow.keras.callbacks import ReduceLROnPlateau\n",
        "from sklearn.model_selection import train_test_split"
      ]
    },
    {
      "cell_type": "markdown",
      "source": [
        "#Load Dataset"
      ],
      "metadata": {
        "id": "E2ETuOhEFVF-"
      }
    },
    {
      "cell_type": "code",
      "source": [
        "from google.colab import drive\n",
        "drive.mount('/content/drive')"
      ],
      "metadata": {
        "id": "LOigIJUEmYit",
        "colab": {
          "base_uri": "https://localhost:8080/"
        },
        "outputId": "329f4d89-c655-4da2-e50d-00cc4423c1ea"
      },
      "execution_count": 8,
      "outputs": [
        {
          "output_type": "stream",
          "name": "stdout",
          "text": [
            "Drive already mounted at /content/drive; to attempt to forcibly remount, call drive.mount(\"/content/drive\", force_remount=True).\n"
          ]
        }
      ]
    },
    {
      "cell_type": "code",
      "source": [
        "from tensorflow.keras.preprocessing.image import ImageDataGenerator\n",
        "\n",
        "# Define paths to the train and test directories\n",
        "train_dir = '/content/drive/MyDrive/datasets/skindiseasedataset/SkinDisease/train'\n",
        "test_dir = '/content/drive/MyDrive/datasets/skindiseasedataset/SkinDisease/test'\n",
        "\n",
        "# Initialize ImageDataGenerator for train and test sets\n",
        "train_datagen = ImageDataGenerator(\n",
        "    rescale=1./255,  # Normalize pixel values to [0, 1]\n",
        "    rotation_range=40,  # Random rotation\n",
        "    width_shift_range=0.2,  # Horizontal shift\n",
        "    height_shift_range=0.2,  # Vertical shift\n",
        "    shear_range=0.2,  # Random shear transformation\n",
        "    zoom_range=0.2,  # Random zoom\n",
        "    horizontal_flip=True,  # Random horizontal flip\n",
        "    fill_mode='nearest'  # Fill pixels after transformation\n",
        ")\n",
        "\n",
        "test_datagen = ImageDataGenerator(rescale=1./255)  # Only rescaling for the test set\n",
        "\n",
        "# Set up the train and test data generators\n",
        "train_generator = train_datagen.flow_from_directory(\n",
        "    train_dir,\n",
        "    target_size=(150, 150),  # Resize images to the target size (adjust as needed)\n",
        "    batch_size=32,  # Number of images to return in each batch\n",
        "    class_mode='binary',  # Use 'binary' for binary classification (e.g., healthy vs. diseased)\n",
        "    shuffle=True  # Shuffle the data to avoid bias in training\n",
        ")\n",
        "\n",
        "test_generator = test_datagen.flow_from_directory(\n",
        "    test_dir,\n",
        "    target_size=(150, 150),  # Resize images to the target size (adjust as needed)\n",
        "    batch_size=32,  # Number of images to return in each batch\n",
        "    class_mode='binary',  # Use 'binary' for binary classification (use 'categorical' for multi-class)\n",
        "    shuffle=False  # Don't shuffle the test set\n",
        ")\n",
        "\n",
        "# Example: To see a batch of images and their labels\n",
        "x_batch, y_batch = next(train_generator)\n",
        "print(x_batch.shape)  # Shape of the batch (batch_size, height, width, channels)\n",
        "print(y_batch)  # Corresponding labels (0 or 1 for binary classification)"
      ],
      "metadata": {
        "colab": {
          "base_uri": "https://localhost:8080/"
        },
        "id": "k4dxFEAzF8zk",
        "outputId": "65767966-da7e-4979-ce97-2c0905a1f096"
      },
      "execution_count": 11,
      "outputs": [
        {
          "output_type": "stream",
          "name": "stdout",
          "text": [
            "Found 13898 images belonging to 22 classes.\n",
            "Found 1546 images belonging to 22 classes.\n",
            "(32, 150, 150, 3)\n",
            "[14. 18. 17.  7.  0.  3. 14.  2.  2. 11. 13. 17. 20.  5.  7. 20.  6.  0.\n",
            " 15.  6. 15. 11. 16.  3. 10.  6. 11.  8.  7.  2. 17. 10.]\n"
          ]
        }
      ]
    },
    {
      "cell_type": "code",
      "source": [],
      "metadata": {
        "id": "gGa8QpPNIxOM"
      },
      "execution_count": null,
      "outputs": []
    }
  ]
}