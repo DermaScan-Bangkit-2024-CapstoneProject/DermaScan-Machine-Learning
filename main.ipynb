{
  "cells": [
    {
      "cell_type": "markdown",
      "metadata": {
        "id": "view-in-github",
        "colab_type": "text"
      },
      "source": [
        "<a href=\"https://colab.research.google.com/github/DermaScan-Bangkit-2024-CapstoneProject/DermaScan-Machine-Learning/blob/main/main.ipynb\" target=\"_parent\"><img src=\"https://colab.research.google.com/assets/colab-badge.svg\" alt=\"Open In Colab\"/></a>"
      ]
    },
    {
      "cell_type": "code",
      "execution_count": null,
      "metadata": {
        "id": "3JaZBiOUMYir"
      },
      "outputs": [],
      "source": [
        "!pip install -q kaggle"
      ]
    },
    {
      "cell_type": "code",
      "source": [
        "from google.colab import files\n",
        "files.upload()"
      ],
      "metadata": {
        "id": "Fei7haGBMao6"
      },
      "execution_count": null,
      "outputs": []
    },
    {
      "cell_type": "code",
      "source": [
        "!mkdir -p ~/.kaggle\n",
        "!cp kaggle.json ~/.kaggle/\n",
        "!chmod 600 ~/.kaggle/kaggle.json"
      ],
      "metadata": {
        "id": "16oF0UB4Mcq6"
      },
      "execution_count": null,
      "outputs": []
    },
    {
      "cell_type": "code",
      "source": [
        "!cat ~/.kaggle/kaggle.json"
      ],
      "metadata": {
        "id": "8H1zXhhTMeQ7"
      },
      "execution_count": null,
      "outputs": []
    },
    {
      "cell_type": "code",
      "source": [
        "# !kaggle datasets download kmader/skin-cancer-mnist-ham10000 ## ini sama dengan yang di bawah, pake yang di bawah aja\n",
        "!kaggle datasets download pacificrm/skindiseasedataset # ini sudah dibagi train-test\n",
        "!kaggle datasets download yashhvyass/resizeimage224224-skin-cancer-detection # lihat tabel di bawah\n",
        "!kaggle datasets download surajghuwalewala/ham1000-segmentation-and-classification # lihat tabel di bawah\n",
        "!kaggle datasets download kylegraupe/skin-cancer-binary-classification-dataset # sudah diklasifikasi"
      ],
      "metadata": {
        "colab": {
          "base_uri": "https://localhost:8080/"
        },
        "id": "Z9amEM3pM2Rh",
        "outputId": "1550f4bc-5194-4a76-b7bd-300cfbbe1516"
      },
      "execution_count": null,
      "outputs": [
        {
          "output_type": "stream",
          "name": "stdout",
          "text": [
            "Dataset URL: https://www.kaggle.com/datasets/kmader/skin-cancer-mnist-ham10000\n",
            "License(s): CC-BY-NC-SA-4.0\n",
            "Downloading skin-cancer-mnist-ham10000.zip to /content\n",
            "100% 5.20G/5.20G [00:45<00:00, 143MB/s]\n",
            "100% 5.20G/5.20G [00:45<00:00, 124MB/s]\n",
            "Dataset URL: https://www.kaggle.com/datasets/pacificrm/skindiseasedataset\n",
            "License(s): CC0-1.0\n",
            "Downloading skindiseasedataset.zip to /content\n",
            "100% 1.36G/1.36G [00:23<00:00, 78.8MB/s]\n",
            "100% 1.36G/1.36G [00:23<00:00, 61.1MB/s]\n",
            "Dataset URL: https://www.kaggle.com/datasets/yashhvyass/resizeimage224224-skin-cancer-detection\n",
            "License(s): apache-2.0\n",
            "Downloading resizeimage224224-skin-cancer-detection.zip to /content\n",
            " 95% 323M/342M [00:04<00:00, 87.0MB/s]\n",
            "100% 342M/342M [00:04<00:00, 86.2MB/s]\n",
            "Dataset URL: https://www.kaggle.com/datasets/surajghuwalewala/ham1000-segmentation-and-classification\n",
            "License(s): Attribution-NonCommercial 4.0 International (CC BY-NC 4.0)\n",
            "Downloading ham1000-segmentation-and-classification.zip to /content\n",
            "100% 2.59G/2.59G [00:38<00:00, 29.5MB/s]\n",
            "100% 2.59G/2.59G [00:38<00:00, 72.0MB/s]\n",
            "Dataset URL: https://www.kaggle.com/datasets/kylegraupe/skin-cancer-binary-classification-dataset\n",
            "License(s): CC0-1.0\n",
            "Downloading skin-cancer-binary-classification-dataset.zip to /content\n",
            " 40% 9.00M/22.5M [00:00<00:00, 30.7MB/s]\n",
            "100% 22.5M/22.5M [00:00<00:00, 66.5MB/s]\n"
          ]
        }
      ]
    },
    {
      "cell_type": "markdown",
      "source": [
        "### **Summary Table**\n",
        "| Condition                  | Cancer Association       | Type                     |\n",
        "|----------------------------|--------------------------|--------------------------|\n",
        "| Actinic Keratosis          | Precancerous             | Potentially cancerous    |\n",
        "| Basal Cell Carcinoma       | Cancerous                | Cancerous                |\n",
        "| Bowen’s Disease            | Early-stage cancer       | Cancerous                |\n",
        "| Melanoma                   | Cancerous                | Cancerous                |\n",
        "| Skin Cancer (General)      | Cancerous                | Cancerous                |\n",
        "| Moles                      | Generally benign         | Generally benign         |\n",
        "| Sun/Sunlight Damage        | Indirectly linked        | Risk factor for cancer   |\n",
        "| Benign Keratosis-like Lesions | Benign               | Non-cancerous            |\n",
        "| Benign Tumors              | Benign                   | Non-cancerous            |\n",
        "| Seborrheic Keratoses       | Benign                   | Non-cancerous            |\n",
        "| Vascular Tumors            | Mostly benign            | Mostly non-cancerous     |\n",
        "| Others (Acne, Eczema, etc.)| Benign                   | Non-cancerous            |\n"
      ],
      "metadata": {
        "id": "_qKXHMpQ37qe"
      }
    }
  ],
  "metadata": {
    "kernelspec": {
      "display_name": "Python 3",
      "language": "python",
      "name": "python3"
    },
    "language_info": {
      "name": "python",
      "version": "3.13.0"
    },
    "colab": {
      "provenance": [],
      "include_colab_link": true
    }
  },
  "nbformat": 4,
  "nbformat_minor": 0
}